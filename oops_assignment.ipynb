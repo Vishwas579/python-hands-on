{
  "nbformat": 4,
  "nbformat_minor": 0,
  "metadata": {
    "colab": {
      "provenance": []
    },
    "kernelspec": {
      "name": "python3",
      "display_name": "Python 3"
    },
    "language_info": {
      "name": "python"
    }
  },
  "cells": [
    {
      "cell_type": "markdown",
      "source": [
        "Q1. Write a Python program to demonstrate multiple inheritance.\n",
        "1. Employee class has 3 data members EmployeeID, Gender (String), Salary and\n",
        "PerformanceRating(Out of 5) of type int. It has a get() function to get these details from\n",
        "the user.\n",
        "2. JoiningDetail class has a data member DateOfJoining of type Date and a function\n",
        "getDoJ to get the Date of joining of employees.\n",
        "3. Information Class uses the marks from Employee class and the DateOfJoining date\n",
        "from the JoiningDetail class to calculate the top 3 Employees based on their Ratings\n",
        "and then Display, using readData, all the details on these employees in Ascending\n",
        "order of their Date Of Joining.\n"
      ],
      "metadata": {
        "id": "a2HSmxbJITVh"
      }
    },
    {
      "cell_type": "code",
      "execution_count": null,
      "metadata": {
        "id": "PzMDMmNcEQor"
      },
      "outputs": [],
      "source": [
        "from datetime import datetime\n",
        "\n",
        "class Employee:\n",
        "    def __init__(self):\n",
        "        self.EmployeeID = 0\n",
        "        self.Gender = \"\"\n",
        "        self.Salary = 0\n",
        "        self.PerformanceRating = 0\n",
        "\n",
        "    def get(self):\n",
        "        self.EmployeeID = int(input(\"Enter Employee ID: \"))\n",
        "        self.Gender = input(\"Enter Gender (M/F): \")\n",
        "        self.Salary = int(input(\"Enter Salary: \"))\n",
        "        self.PerformanceRating = int(input(\"Enter Performance Rating (out of 5): \"))\n",
        "\n",
        "class JoiningDetail:\n",
        "    def __init__(self):\n",
        "        self.DateOfJoining = None\n",
        "\n",
        "    def getDoj(self):\n",
        "        date_str = input(\"Enter Date of Joining (YYYY-MM-DD): \")\n",
        "        self.DateOfJoining = datetime.strptime(date_str, \"%Y-%m-%d\")\n",
        "\n",
        "class Information(Employee, JoiningDetail):\n",
        "    def __init__(self):\n",
        "        Employee.__init__(self)\n",
        "        JoiningDetail.__init__(self)\n",
        "\n",
        "    def readData(self, employees):\n",
        "        # Sorting by Performance Rating (Descending) and then Date of Joining (Ascending)\n",
        "        top_employees = sorted(employees, key=lambda e: (-e.PerformanceRating, e.DateOfJoining))[:3]\n",
        "        print(\"\\nTop 3 Employees based on Performance Rating:\")\n",
        "        for emp in top_employees:\n",
        "            print(f\"EmployeeID: {emp.EmployeeID}, Gender: {emp.Gender}, Salary: {emp.Salary}, \"\n",
        "                  f\"Performance Rating: {emp.PerformanceRating}, Date of Joining: {emp.DateOfJoining.date()}\")\n",
        "\n",
        "# Main Execution\n",
        "n = int(input(\"Enter number of employees: \"))\n",
        "employees = []\n",
        "\n",
        "for i in range(n):\n",
        "    print(f\"\\nEnter details for Employee {i+1}:\")\n",
        "    emp = Information()\n",
        "    emp.get()\n",
        "    # Changed the method call from getDoJ to getDoj to match the method definition.\n",
        "    emp.getDoj()\n",
        "    employees.append(emp)\n",
        "\n",
        "info = Information()\n",
        "info.readData(employees)"
      ]
    },
    {
      "cell_type": "markdown",
      "source": [
        "Q.2 Write a Python program to demonstrate Polymorphism.\n",
        "1. Class Vehicle with a parameterized function Fare, that takes input value as fare and\n",
        "returns it to calling Objects.\n",
        "2. Create five separate variables Bus, Car, Train, Truck and Ship that call the Fare\n",
        "function.\n",
        "3. Use a third variable TotalFare to store the sum of fare for each Vehicle Type.\n",
        "4. Print the TotalFare.\n"
      ],
      "metadata": {
        "id": "tYvHOkHQIdNr"
      }
    },
    {
      "cell_type": "code",
      "source": [
        "class Vehicle:\n",
        "    def Fare(self, fare):\n",
        "        return fare\n",
        "\n",
        "# Creating instances for different vehicles\n",
        "Bus = Vehicle()\n",
        "Car = Vehicle()\n",
        "Train = Vehicle()\n",
        "Truck = Vehicle()\n",
        "Ship = Vehicle()\n",
        "\n",
        "# Getting fare values\n",
        "bus_fare = Bus.Fare(float(input(\"Enter Bus Fare: \")))\n",
        "car_fare = Car.Fare(float(input(\"Enter Car Fare: \")))\n",
        "train_fare = Train.Fare(float(input(\"Enter Train Fare: \")))\n",
        "truck_fare = Truck.Fare(float(input(\"Enter Truck Fare: \")))\n",
        "ship_fare = Ship.Fare(float(input(\"Enter Ship Fare: \")))\n",
        "\n",
        "# Calculating total fare\n",
        "TotalFare = bus_fare + car_fare + train_fare + truck_fare + ship_fare\n",
        "\n",
        "# Printing the total fare\n",
        "print(f\"Total Fare: {TotalFare}\")\n"
      ],
      "metadata": {
        "id": "z5WdQDG9IPQk"
      },
      "execution_count": null,
      "outputs": []
    },
    {
      "cell_type": "markdown",
      "source": [
        "Test Match 1 :\n",
        "Dhoni : 56 , Balaji : 94\n",
        "Test Match 2 :\n",
        "Balaji : 80 , Dravid : 105\n",
        "Calculate the highest number of runs scored by an individual cricketer in both of the matches.\n",
        "Create a python function Max_Score (M) that reads a dictionary M that recognizes the player\n",
        "with the highest total score. This function will return ( Top player , Total Score ) . You can\n",
        "consider the Top player as String who is the highest scorer and Top score as Integer .\n",
        "Input : Max_Score({‘test1’:{‘Dhoni’:56, ‘Balaji : 85}, ‘test2’:{‘Dhoni’ 87, ‘Balaji’’:200}})\n",
        "Output : (‘Balaji ‘ , 200)"
      ],
      "metadata": {
        "id": "ZnxcpSUIIpqK"
      }
    },
    {
      "cell_type": "code",
      "source": [
        "def Max_Score(M):\n",
        "    player_scores = {}\n",
        "\n",
        "    for match in M.values():\n",
        "        for player, score in match.items():\n",
        "            player_scores[player] = player_scores.get(player, 0) + score\n",
        "\n",
        "    return max(player_scores.items(), key=lambda x: x[1])\n",
        "\n",
        "# Example Input\n",
        "test_matches = {\n",
        "    'test1': {'Dhoni': 56, 'Balaji': 85},\n",
        "    'test2': {'Dhoni': 87, 'Balaji': 200}\n",
        "}\n",
        "\n",
        "# Function Call\n",
        "print(Max_Score(test_matches))\n"
      ],
      "metadata": {
        "id": "JR0SNDkJJZn-"
      },
      "execution_count": null,
      "outputs": []
    },
    {
      "cell_type": "markdown",
      "source": [
        "Q4. Create a simple Card game in which there are 8 cards which are randomly chosen from a\n",
        "deck. The first card is shown face up. The game asks the player to predict whether the next card\n",
        "in the selection will have a higher or lower value than the currently showing card.\n",
        "For example, say the card that’s shown is a 3. The player chooses “higher,” and the next card is\n",
        "shown. If that card has a higher value, the player is correct. In this example, if the player had\n",
        "chosen “lower,” they would have been incorrect. If the player guesses correctly, they get 20\n",
        "points. If they choose incorrectly, they lose 15 points. If the next card to be turned over has the\n",
        "same value as the previous card, the player is incorrect"
      ],
      "metadata": {
        "id": "aGuxWTXvJbHx"
      }
    },
    {
      "cell_type": "code",
      "source": [
        "import random\n",
        "\n",
        "def get_card():\n",
        "    return random.randint(1, 13)  # Cards have values from 1 (Ace) to 13 (King)\n",
        "\n",
        "def play_game():\n",
        "    cards = [get_card() for _ in range(8)]  # Draw 8 random cards\n",
        "    score = 0\n",
        "    print(f\"First card: {cards[0]}\")\n",
        "\n",
        "    for i in range(1, len(cards)):\n",
        "        guess = input(\"Will the next card be higher or lower? (h/l): \").strip().lower()\n",
        "\n",
        "        if guess not in ('h', 'l'):\n",
        "            print(\"Invalid input. Please enter 'h' for higher or 'l' for lower.\")\n",
        "            continue\n",
        "\n",
        "        print(f\"Next card: {cards[i]}\")\n",
        "\n",
        "        if (guess == 'h' and cards[i] > cards[i-1]) or (guess == 'l' and cards[i] < cards[i-1]):\n",
        "            score += 20\n",
        "            print(\"Correct! +20 points\")\n",
        "        else:\n",
        "            score -= 15\n",
        "            print(\"Incorrect! -15 points\")\n",
        "\n",
        "        print(f\"Current Score: {score}\\n\")\n",
        "\n",
        "    print(f\"Final Score: {score}\")\n",
        "\n",
        "# Start the game\n",
        "play_game()\n"
      ],
      "metadata": {
        "id": "6uaYBwMbJopb"
      },
      "execution_count": null,
      "outputs": []
    },
    {
      "cell_type": "markdown",
      "source": [
        "Q5. Create an empty dictionary called Car_0 . Then fill the dictionary with Keys : color , speed\n",
        ", X_position and Y_position.\n",
        "car_0 = {'x_position': 10, 'y_position': 72, 'speed': 'medium'} .\n",
        "a) If the speed is slow the coordinates of the X_pos get incremented by 2.\n",
        "b) If the speed is Medium the coordinates of the X_pos gets incremented by 9\n",
        "c) Now if the speed is Fast the coordinates of the X_pos gets incremented by 22.\n",
        "Print the modified dictionary."
      ],
      "metadata": {
        "id": "rbPxRS4_J71u"
      }
    },
    {
      "cell_type": "code",
      "source": [
        "from abc import ABC, abstractmethod\n",
        "\n",
        "car_0 = {}\n",
        "car_0['color'] = 'red'\n",
        "car_0['speed'] = 'medium'\n",
        "car_0['x_position'] = 10\n",
        "car_0['y_position'] = 72\n",
        "\n",
        "speed_mapping = {'slow': 2, 'medium': 9, 'fast': 22}\n",
        "\n",
        "if car_0['speed'] in speed_mapping:\n",
        "    car_0['x_position'] += speed_mapping[car_0['speed']]\n",
        "\n",
        "print(\"Updated Car Dictionary:\", car_0)"
      ],
      "metadata": {
        "id": "CYspmDIHKT28"
      },
      "execution_count": null,
      "outputs": []
    },
    {
      "cell_type": "markdown",
      "source": [
        "Q6. Show a basic implementation of abstraction in python using the abstract classes.\n",
        "1. Create an abstract class in python.\n",
        "2. Implement abstraction with the other classes and base class as abstract class"
      ],
      "metadata": {
        "id": "uxg3rWU6Kc1Q"
      }
    },
    {
      "cell_type": "code",
      "source": [
        "class Vehicle(ABC):\n",
        "    @abstractmethod\n",
        "    def start(self):\n",
        "        pass\n",
        "\n",
        "    @abstractmethod\n",
        "    def stop(self):\n",
        "        pass\n",
        "\n",
        "class Car(Vehicle):\n",
        "    def start(self):\n",
        "        print(\"Car is starting...\")\n",
        "\n",
        "    def stop(self):\n",
        "        print(\"Car is stopping...\")\n",
        "\n",
        "class Bike(Vehicle):\n",
        "    def start(self):\n",
        "        print(\"Bike is starting...\")\n",
        "\n",
        "    def stop(self):\n",
        "        print(\"Bike is stopping...\")\n",
        "\n",
        "# Creating instances and testing abstraction\n",
        "car = Car()\n",
        "car.start()\n",
        "car.stop()\n",
        "\n",
        "bike = Bike()\n",
        "bike.start()\n",
        "bike.stop()\n"
      ],
      "metadata": {
        "id": "EyEyX1_IKi4j"
      },
      "execution_count": null,
      "outputs": []
    },
    {
      "cell_type": "markdown",
      "source": [
        "Q7. Create a program in python to demonstrate Polymorphism.\n",
        "1. Make use of private and protected members using python name mangling techniques"
      ],
      "metadata": {
        "id": "WN3uFSitLBZh"
      }
    },
    {
      "cell_type": "code",
      "source": [
        "class Animal:\n",
        "    def __init__(self, name):\n",
        "        self._name = name  # Protected member\n",
        "        self.__species = \"Unknown\"  # Private member (name mangling applied)\n",
        "\n",
        "    def make_sound(self):\n",
        "        raise NotImplementedError(\"Subclasses must implement this method\")\n",
        "\n",
        "    def get_species(self):\n",
        "        return self.__species  # Accessing private member\n",
        "\n",
        "class Dog(Animal):\n",
        "    def __init__(self, name):\n",
        "        super().__init__(name)\n",
        "        self.__species = \"Canine\"  # Private member (name mangling applied)\n",
        "\n",
        "    def make_sound(self):\n",
        "        return f\"{self._name} barks: Woof! Woof!\"\n",
        "\n",
        "    def get_species(self):\n",
        "        return self.__species\n",
        "\n",
        "class Cat(Animal):\n",
        "    def __init__(self, name):\n",
        "        super().__init__(name)\n",
        "        self.__species = \"Feline\"  # Private member (name mangling applied)\n",
        "\n",
        "    def make_sound(self):\n",
        "        return f\"{self._name} meows: Meow! Meow!\"\n",
        "\n",
        "    def get_species(self):\n",
        "        return self.__species\n",
        "\n",
        "# Function demonstrating polymorphism\n",
        "def animal_sound(animal):\n",
        "    print(animal.make_sound())\n",
        "\n",
        "# Creating objects of Dog and Cat\n",
        "dog = Dog(\"Buddy\")\n",
        "cat = Cat(\"Whiskers\")\n",
        "\n",
        "# Accessing protected member (allowed, but not recommended)\n",
        "print(f\"Dog Name: {dog._name}\")\n",
        "\n",
        "# Accessing private member using name mangling\n",
        "print(f\"Dog Species: {dog._Dog__species}\")\n",
        "print(f\"Cat Species: {cat._Cat__species}\")\n",
        "\n",
        "# Demonstrating polymorphism\n",
        "animal_sound(dog)\n",
        "animal_sound(cat)\n"
      ],
      "metadata": {
        "id": "Ucw5RnskLCEB"
      },
      "execution_count": null,
      "outputs": []
    },
    {
      "cell_type": "markdown",
      "source": [
        "Q8. Given a list of 50 natural numbers from 1-50. Create a function that will take every element\n",
        "from the list and return the square of each element. Use the python map and filter methods to\n",
        "implement the function on the given list"
      ],
      "metadata": {
        "id": "ZGP3Wd8ILL38"
      }
    },
    {
      "cell_type": "code",
      "source": [
        "# List of natural numbers from 1 to 50\n",
        "numbers = list(range(1, 51))\n",
        "\n",
        "# Function to return the square of a number\n",
        "def square_number(num):\n",
        "    return num ** 2\n",
        "\n",
        "# Using map to apply the function to each element\n",
        "squared_numbers = list(map(square_number, numbers))\n",
        "\n",
        "print(squared_numbers)\n"
      ],
      "metadata": {
        "id": "ObkAXMY2Luid"
      },
      "execution_count": null,
      "outputs": []
    },
    {
      "cell_type": "markdown",
      "source": [
        "Q9. Create a class, Triangle. Its init() method should take self, angle1, angle2, and angle3 as\n",
        "arguments."
      ],
      "metadata": {
        "id": "tRlovTMYL1So"
      }
    },
    {
      "cell_type": "code",
      "source": [
        "class Triangle:\n",
        "    def __init__(self, angle1, angle2, angle3):\n",
        "        self.angle1 = angle1\n",
        "        self.angle2 = angle2\n",
        "        self.angle3 = angle3\n",
        "\n",
        "# Example usage:\n",
        "triangle = Triangle(60, 60, 60)\n",
        "print(triangle.angle1, triangle.angle2, triangle.angle3)  # Output: 60 60 60\n"
      ],
      "metadata": {
        "id": "czwGCmBaMG4_"
      },
      "execution_count": null,
      "outputs": []
    },
    {
      "cell_type": "markdown",
      "source": [
        "Q10. Create a class variable named number_of_sides and set it equal to 3."
      ],
      "metadata": {
        "id": "x7FgVZHfMLXK"
      }
    },
    {
      "cell_type": "code",
      "source": [
        "class Triangle:\n",
        "    # Class variable\n",
        "    number_of_sides = 3\n",
        "\n",
        "    def __init__(self, angle1, angle2, angle3):\n",
        "        self.angle1 = angle1\n",
        "        self.angle2 = angle2\n",
        "        self.angle3 = angle3\n",
        "\n",
        "# Example usage:\n",
        "triangle = Triangle(60, 60, 60)\n",
        "print(triangle.number_of_sides)  # Output: 3\n",
        "print(triangle.angle1, triangle.angle2, triangle.angle3)  # Output: 60 60 60\n"
      ],
      "metadata": {
        "id": "csznyBPwMLDK"
      },
      "execution_count": null,
      "outputs": []
    },
    {
      "cell_type": "markdown",
      "source": [
        "Q11. Create a method named check_angles. The sum of a triangle's three angles should return\n",
        "True if the sum is equal to 180, and False otherwise. The method should print whether the\n",
        "angles belong to a triangle or not.\n",
        "11.1 Write methods to verify if the triangle is an acute triangle or obtuse triangle.\n",
        "11.2 Create an instance of the triangle class and call all the defined methods.\n",
        "11.3 Create three child classes of triangle class - isosceles_triangle, right_triangle and\n",
        "equilateral_triangle.\n",
        "11.4 Define methods which check for their properties."
      ],
      "metadata": {
        "id": "wR2D8u34Mm29"
      }
    },
    {
      "cell_type": "code",
      "source": [
        "class Triangle:\n",
        "    # Class variable\n",
        "    number_of_sides = 3\n",
        "\n",
        "    def __init__(self, angle1, angle2, angle3):\n",
        "        self.angle1 = angle1\n",
        "        self.angle2 = angle2\n",
        "        self.angle3 = angle3\n",
        "\n",
        "    # Method to check if the angles form a valid triangle\n",
        "    def check_angles(self):\n",
        "        if self.angle1 + self.angle2 + self.angle3 == 180:\n",
        "            print(\"The angles form a valid triangle.\")\n",
        "            return True\n",
        "        else:\n",
        "            print(\"The angles do not form a triangle.\")\n",
        "            return False\n",
        "\n",
        "    # 11.1 Method to check if the triangle is acute or obtuse\n",
        "    def triangle_type(self):\n",
        "        if max(self.angle1, self.angle2, self.angle3) < 90:\n",
        "            print(\"This is an acute triangle.\")\n",
        "        elif max(self.angle1, self.angle2, self.angle3) > 90:\n",
        "            print(\"This is an obtuse triangle.\")\n",
        "        else:\n",
        "            print(\"This is a right triangle.\")\n",
        "\n",
        "# 11.2 Creating an instance and calling methods\n",
        "triangle = Triangle(60, 60, 60)\n",
        "triangle.check_angles()   # Output: The angles form a valid triangle.\n",
        "triangle.triangle_type()  # Output: This is an acute triangle.\n",
        "\n",
        "# 11.3 Creating child classes\n",
        "class IsoscelesTriangle(Triangle):\n",
        "    def is_isosceles(self):\n",
        "        if self.angle1 == self.angle2 or self.angle2 == self.angle3 or self.angle1 == self.angle3:\n",
        "            print(\"This is an isosceles triangle.\")\n",
        "        else:\n",
        "            print(\"This is not an isosceles triangle.\")\n",
        "\n",
        "class RightTriangle(Triangle):\n",
        "    def is_right(self):\n",
        "        if 90 in [self.angle1, self.angle2, self.angle3]:\n",
        "            print(\"This is a right-angled triangle.\")\n",
        "        else:\n",
        "            print(\"This is not a right-angled triangle.\")\n",
        "\n",
        "class EquilateralTriangle(Triangle):\n",
        "    def is_equilateral(self):\n",
        "        if self.angle1 == self.angle2 == self.angle3 == 60:\n",
        "            print(\"This is an equilateral triangle.\")\n",
        "        else:\n",
        "            print(\"This is not an equilateral triangle.\")\n",
        "\n",
        "# Creating instances of child classes\n",
        "iso_triangle = IsoscelesTriangle(45, 45, 90)\n",
        "iso_triangle.is_isosceles()  # Output: This is an isosceles triangle.\n",
        "iso_triangle.check_angles()  # Output: The angles form a valid triangle.\n",
        "\n",
        "right_triangle = RightTriangle(90, 45, 45)\n",
        "right_triangle.is_right()  # Output: This is a right-angled triangle.\n",
        "right_triangle.check_angles()\n",
        "\n",
        "eq_triangle = EquilateralTriangle(60, 60, 60)\n",
        "eq_triangle.is_equilateral()  # Output: This is an equilateral triangle.\n",
        "eq_triangle.check_angles()\n"
      ],
      "metadata": {
        "id": "sTS4JEs5MngA"
      },
      "execution_count": null,
      "outputs": []
    },
    {
      "cell_type": "markdown",
      "source": [
        "Q12. Create a class isosceles_right_triangle which inherits from isosceles_triangle and\n",
        "right_triangle.\n",
        "12.1 Define methods which check for their properties."
      ],
      "metadata": {
        "id": "2qMvyLlUNCOe"
      }
    },
    {
      "cell_type": "code",
      "source": [
        "class Triangle:\n",
        "    number_of_sides = 3\n",
        "\n",
        "    def __init__(self, angle1, angle2, angle3):\n",
        "        self.angle1 = angle1\n",
        "        self.angle2 = angle2\n",
        "        self.angle3 = angle3\n",
        "\n",
        "    def check_angles(self):\n",
        "        if self.angle1 + self.angle2 + self.angle3 == 180:\n",
        "            print(\"The angles form a valid triangle.\")\n",
        "            return True\n",
        "        else:\n",
        "            print(\"The angles do not form a triangle.\")\n",
        "            return False\n",
        "\n",
        "class IsoscelesTriangle(Triangle):\n",
        "    def is_isosceles(self):\n",
        "        if self.angle1 == self.angle2 or self.angle2 == self.angle3 or self.angle1 == self.angle3:\n",
        "            print(\"This is an isosceles triangle.\")\n",
        "            return True\n",
        "        else:\n",
        "            print(\"This is not an isosceles triangle.\")\n",
        "            return False\n",
        "\n",
        "class RightTriangle(Triangle):\n",
        "    def is_right(self):\n",
        "        if 90 in [self.angle1, self.angle2, self.angle3]:\n",
        "            print(\"This is a right-angled triangle.\")\n",
        "            return True\n",
        "        else:\n",
        "            print(\"This is not a right-angled triangle.\")\n",
        "            return False\n",
        "\n",
        "# 12. Creating a new class\n"
      ],
      "metadata": {
        "id": "kfnmScDZNBvR"
      },
      "execution_count": null,
      "outputs": []
    }
  ]
}